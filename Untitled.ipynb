{
 "cells": [
  {
   "cell_type": "code",
   "execution_count": 98,
   "metadata": {},
   "outputs": [],
   "source": [
    "f = open(\"a_example.in\",\"r\")\n",
    "contents = f.read()\n",
    "f.close() "
   ]
  },
  {
   "cell_type": "code",
   "execution_count": 99,
   "metadata": {},
   "outputs": [
    {
     "data": {
      "text/plain": [
       "'17 4\\n2 5 6 8\\n'"
      ]
     },
     "execution_count": 99,
     "metadata": {},
     "output_type": "execute_result"
    }
   ],
   "source": [
    "contents"
   ]
  },
  {
   "cell_type": "code",
   "execution_count": 100,
   "metadata": {},
   "outputs": [
    {
     "name": "stdout",
     "output_type": "stream",
     "text": [
      "['17 4', '2 5 6 8', '']\n"
     ]
    }
   ],
   "source": [
    "contents = contents.split('\\n')\n",
    "print(contents)"
   ]
  },
  {
   "cell_type": "code",
   "execution_count": 106,
   "metadata": {},
   "outputs": [
    {
     "name": "stdout",
     "output_type": "stream",
     "text": [
      "maximum number: 17, number of differrent types: 4\n"
     ]
    }
   ],
   "source": [
    "max_slices = contents[0].split(' ')\n",
    "num_types = int(max_slices[1])\n",
    "max_slices = int(max_slices[0])\n",
    "print(\"maximum number: {}, number of differrent types: {}\".format(max_slices, num_types))"
   ]
  },
  {
   "cell_type": "code",
   "execution_count": 154,
   "metadata": {},
   "outputs": [
    {
     "name": "stdout",
     "output_type": "stream",
     "text": [
      "['2', '5', '6', '8']\n"
     ]
    }
   ],
   "source": [
    "content = contents[1].split(' ')\n",
    "content = content[:num_types]\n",
    "print(content)"
   ]
  },
  {
   "cell_type": "markdown",
   "metadata": {},
   "source": [
    "<h2>Юра"
   ]
  },
  {
   "cell_type": "code",
   "execution_count": 116,
   "metadata": {},
   "outputs": [],
   "source": [
    "half = int(num_types/2)"
   ]
  },
  {
   "cell_type": "code",
   "execution_count": 131,
   "metadata": {},
   "outputs": [
    {
     "name": "stdout",
     "output_type": "stream",
     "text": [
      "['6', '8']\n",
      "['2', '5', '6']\n"
     ]
    }
   ],
   "source": [
    "y = content[-half:]\n",
    "print(y)\n",
    "x = content[:half+1]\n",
    "print(x)\n",
    "current_max = 0"
   ]
  },
  {
   "cell_type": "code",
   "execution_count": 153,
   "metadata": {},
   "outputs": [
    {
     "name": "stdout",
     "output_type": "stream",
     "text": [
      "...8..., itr 0\n",
      "...8..., itr1 0\n",
      "...10..., itr1 1\n",
      "...15..., itr1 2\n",
      "...21...\n",
      "...6..., itr 1\n",
      "...6..., itr1 0\n",
      "...8..., itr1 1\n",
      "...13..., itr1 2\n",
      "...19...\n",
      "15\n"
     ]
    }
   ],
   "source": [
    "itr = 0\n",
    "for i in reversed(y):\n",
    "    itr1 = 0\n",
    "    tmp_sum = int(i)\n",
    "    for j in x:\n",
    "        itr1+=1\n",
    "        if tmp_sum <= max_slices and current_max < tmp_sum:\n",
    "            current_max = tmp_sum\n",
    "        elif tmp_sum > max_slices:\n",
    "            break\n",
    "        tmp_sum += int(j)\n",
    "    if (tmp_sum == max_slices):\n",
    "        current_max = tmp_sum\n",
    "        break\n",
    "    if tmp_sum < max_slices:\n",
    "        for k in y:\n",
    "            if tmp_sum <= max_slices and current_max < tmp_sum:\n",
    "                current_max = tmp_sum\n",
    "            elif tmp_sum > max_slices:\n",
    "                break\n",
    "            tmp_sum += int(k)\n",
    "    itr+=1\n",
    "print(current_max)"
   ]
  },
  {
   "cell_type": "markdown",
   "metadata": {},
   "source": [
    "<h2>Валера"
   ]
  },
  {
   "cell_type": "code",
   "execution_count": 252,
   "metadata": {},
   "outputs": [],
   "source": [
    "f = open(\"b_small.in\",\"r\")\n",
    "contents = f.read()\n",
    "f.close() "
   ]
  },
  {
   "cell_type": "code",
   "execution_count": 253,
   "metadata": {},
   "outputs": [
    {
     "name": "stdout",
     "output_type": "stream",
     "text": [
      "['100 10', '4 14 15 18 29 32 36 82 95 95', '']\n"
     ]
    }
   ],
   "source": [
    "contents = contents.split('\\n')\n",
    "print(contents)"
   ]
  },
  {
   "cell_type": "code",
   "execution_count": 254,
   "metadata": {},
   "outputs": [
    {
     "name": "stdout",
     "output_type": "stream",
     "text": [
      "maximum number: 100, number of differrent types: 10\n"
     ]
    }
   ],
   "source": [
    "max_slices = contents[0].split(' ')\n",
    "num_types = int(max_slices[1])\n",
    "max_slices = int(max_slices[0])\n",
    "print(\"maximum number: {}, number of differrent types: {}\".format(max_slices, num_types))"
   ]
  },
  {
   "cell_type": "code",
   "execution_count": 255,
   "metadata": {},
   "outputs": [
    {
     "data": {
      "text/plain": [
       "['4', '14', '15', '18', '29', '32', '36', '82', '95', '95']"
      ]
     },
     "execution_count": 255,
     "metadata": {},
     "output_type": "execute_result"
    }
   ],
   "source": [
    "content = contents[1].split(' ')\n",
    "content"
   ]
  },
  {
   "cell_type": "code",
   "execution_count": 256,
   "metadata": {},
   "outputs": [
    {
     "name": "stdout",
     "output_type": "stream",
     "text": [
      "x: 95\n",
      "95 ? 100\n",
      "iteration: 1\n",
      "\ty: 95\n",
      "\t190 ? 100\n",
      "\ty: 82\n",
      "\t177 ? 100\n",
      "\ty: 36\n",
      "\t131 ? 100\n",
      "\ty: 32\n",
      "\t127 ? 100\n",
      "\ty: 29\n",
      "\t124 ? 100\n",
      "\ty: 18\n",
      "\t113 ? 100\n",
      "\ty: 15\n",
      "\t110 ? 100\n",
      "\ty: 14\n",
      "\t109 ? 100\n",
      "\ty: 4\n",
      "\t99 ? 100\n",
      "x: 95\n",
      "95 ? 100\n",
      "iteration: 2\n",
      "\ty: 82\n",
      "\t177 ? 100\n",
      "\ty: 36\n",
      "\t131 ? 100\n",
      "\ty: 32\n",
      "\t127 ? 100\n",
      "\ty: 29\n",
      "\t124 ? 100\n",
      "\ty: 18\n",
      "\t113 ? 100\n",
      "\ty: 15\n",
      "\t110 ? 100\n",
      "\ty: 14\n",
      "\t109 ? 100\n",
      "\ty: 4\n",
      "\t99 ? 100\n",
      "x: 82\n",
      "82 ? 100\n",
      "iteration: 3\n",
      "\ty: 36\n",
      "\t118 ? 100\n",
      "\ty: 32\n",
      "\t114 ? 100\n",
      "\ty: 29\n",
      "\t111 ? 100\n",
      "\ty: 18\n",
      "\t100 ? 100\n",
      "\ty: 15\n",
      "\t97 ? 100\n",
      "\ty: 14\n",
      "\t96 ? 100\n",
      "\ty: 4\n",
      "\t86 ? 100\n",
      "x: 36\n",
      "36 ? 100\n",
      "iteration: 4\n",
      "\ty: 32\n",
      "\t68 ? 100\n",
      "\ty: 29\n",
      "\t65 ? 100\n",
      "\ty: 18\n",
      "\t54 ? 100\n",
      "\ty: 15\n",
      "\t51 ? 100\n",
      "\ty: 14\n",
      "\t50 ? 100\n",
      "\ty: 4\n",
      "\t40 ? 100\n",
      "x: 32\n",
      "32 ? 100\n",
      "iteration: 5\n",
      "\ty: 29\n",
      "\t61 ? 100\n",
      "\ty: 18\n",
      "\t50 ? 100\n",
      "\ty: 15\n",
      "\t47 ? 100\n",
      "\ty: 14\n",
      "\t46 ? 100\n",
      "\ty: 4\n",
      "\t36 ? 100\n",
      "x: 29\n",
      "29 ? 100\n",
      "iteration: 6\n",
      "\ty: 18\n",
      "\t47 ? 100\n",
      "\ty: 15\n",
      "\t44 ? 100\n",
      "\ty: 14\n",
      "\t43 ? 100\n",
      "\ty: 4\n",
      "\t33 ? 100\n",
      "x: 18\n",
      "18 ? 100\n",
      "iteration: 7\n",
      "\ty: 15\n",
      "\t33 ? 100\n",
      "\ty: 14\n",
      "\t32 ? 100\n",
      "\ty: 4\n",
      "\t22 ? 100\n",
      "x: 15\n",
      "15 ? 100\n",
      "iteration: 8\n",
      "\ty: 14\n",
      "\t29 ? 100\n",
      "\ty: 4\n",
      "\t19 ? 100\n",
      "x: 14\n",
      "14 ? 100\n",
      "iteration: 9\n",
      "\ty: 4\n",
      "\t18 ? 100\n",
      "x: 4\n",
      "4 ? 100\n",
      "iteration: 10\n"
     ]
    }
   ],
   "source": [
    "def cycle(iteration, content, x):\n",
    "    print('iteration: {}'.format(iteration))\n",
    "    for y in reversed(content[:num_types-iteration]):\n",
    "        y = int(y)\n",
    "        print(\"\\ty: {}\".format(y))\n",
    "        tmp = x+y\n",
    "        print(\"\\t{} ? {}\".format(tmp, max_slices))\n",
    "\n",
    "iteration=1\n",
    "for x in reversed(content):\n",
    "    x = int(x)\n",
    "    print(\"x: {}\".format(x))\n",
    "    tmp = int(x)\n",
    "    print(\"{} ? {}\".format(x, max_slices))\n",
    "    if x < max_slices:\n",
    "        cycle(iteration, content, tmp)\n",
    "    iteration+=1\n",
    "\n"
   ]
  },
  {
   "cell_type": "code",
   "execution_count": null,
   "metadata": {},
   "outputs": [],
   "source": []
  }
 ],
 "metadata": {
  "kernelspec": {
   "display_name": "Python [conda env:WhatThisImageAnaconda]",
   "language": "python",
   "name": "conda-env-WhatThisImageAnaconda-py"
  },
  "language_info": {
   "codemirror_mode": {
    "name": "ipython",
    "version": 3
   },
   "file_extension": ".py",
   "mimetype": "text/x-python",
   "name": "python",
   "nbconvert_exporter": "python",
   "pygments_lexer": "ipython3",
   "version": "3.7.6"
  }
 },
 "nbformat": 4,
 "nbformat_minor": 4
}
