{
 "cells": [
  {
   "cell_type": "code",
   "execution_count": 98,
   "metadata": {},
   "outputs": [],
   "source": [
    "f = open(\"a_example.in\",\"r\")\n",
    "contents = f.read()\n",
    "f.close() "
   ]
  },
  {
   "cell_type": "code",
   "execution_count": 99,
   "metadata": {},
   "outputs": [
    {
     "data": {
      "text/plain": [
       "'17 4\\n2 5 6 8\\n'"
      ]
     },
     "execution_count": 99,
     "metadata": {},
     "output_type": "execute_result"
    }
   ],
   "source": [
    "contents"
   ]
  },
  {
   "cell_type": "code",
   "execution_count": 100,
   "metadata": {},
   "outputs": [
    {
     "name": "stdout",
     "output_type": "stream",
     "text": [
      "['17 4', '2 5 6 8', '']\n"
     ]
    }
   ],
   "source": [
    "contents = contents.split('\\n')\n",
    "print(contents)"
   ]
  },
  {
   "cell_type": "code",
   "execution_count": 106,
   "metadata": {},
   "outputs": [
    {
     "name": "stdout",
     "output_type": "stream",
     "text": [
      "maximum number: 17, number of differrent types: 4\n"
     ]
    }
   ],
   "source": [
    "max_slices = contents[0].split(' ')\n",
    "num_types = int(max_slices[1])\n",
    "max_slices = int(max_slices[0])\n",
    "print(\"maximum number: {}, number of differrent types: {}\".format(max_slices, num_types))"
   ]
  },
  {
   "cell_type": "code",
   "execution_count": 154,
   "metadata": {},
   "outputs": [
    {
     "name": "stdout",
     "output_type": "stream",
     "text": [
      "['2', '5', '6', '8']\n"
     ]
    }
   ],
   "source": [
    "content = contents[1].split(' ')\n",
    "content = content[:num_types]\n",
    "print(content)"
   ]
  },
  {
   "cell_type": "markdown",
   "metadata": {},
   "source": [
    "<h2>Юра"
   ]
  },
  {
   "cell_type": "code",
   "execution_count": 116,
   "metadata": {},
   "outputs": [],
   "source": [
    "half = int(num_types/2)"
   ]
  },
  {
   "cell_type": "code",
   "execution_count": 131,
   "metadata": {},
   "outputs": [
    {
     "name": "stdout",
     "output_type": "stream",
     "text": [
      "['6', '8']\n",
      "['2', '5', '6']\n"
     ]
    }
   ],
   "source": [
    "y = content[-half:]\n",
    "print(y)\n",
    "x = content[:half+1]\n",
    "print(x)\n",
    "current_max = 0"
   ]
  },
  {
   "cell_type": "code",
   "execution_count": 153,
   "metadata": {},
   "outputs": [
    {
     "name": "stdout",
     "output_type": "stream",
     "text": [
      "...8..., itr 0\n",
      "...8..., itr1 0\n",
      "...10..., itr1 1\n",
      "...15..., itr1 2\n",
      "...21...\n",
      "...6..., itr 1\n",
      "...6..., itr1 0\n",
      "...8..., itr1 1\n",
      "...13..., itr1 2\n",
      "...19...\n",
      "15\n"
     ]
    }
   ],
   "source": [
    "itr = 0\n",
    "for i in reversed(y):\n",
    "    itr1 = 0\n",
    "    tmp_sum = int(i)\n",
    "    for j in x:\n",
    "        itr1+=1\n",
    "        if tmp_sum <= max_slices and current_max < tmp_sum:\n",
    "            current_max = tmp_sum\n",
    "        elif tmp_sum > max_slices:\n",
    "            break\n",
    "        tmp_sum += int(j)\n",
    "    if (tmp_sum == max_slices):\n",
    "        current_max = tmp_sum\n",
    "        break\n",
    "    if tmp_sum < max_slices:\n",
    "        for k in y:\n",
    "            if tmp_sum <= max_slices and current_max < tmp_sum:\n",
    "                current_max = tmp_sum\n",
    "            elif tmp_sum > max_slices:\n",
    "                break\n",
    "            tmp_sum += int(k)\n",
    "    itr+=1\n",
    "print(current_max)"
   ]
  },
  {
   "cell_type": "markdown",
   "metadata": {},
   "source": [
    "<h2>Валера"
   ]
  },
  {
   "cell_type": "code",
   "execution_count": 2,
   "metadata": {},
   "outputs": [],
   "source": [
    "f = open(\"b_small.in\",\"r\")\n",
    "contents = f.read()\n",
    "f.close() "
   ]
  },
  {
   "cell_type": "code",
   "execution_count": 3,
   "metadata": {},
   "outputs": [
    {
     "name": "stdout",
     "output_type": "stream",
     "text": [
      "['100 10', '4 14 15 18 29 32 36 82 95 95', '']\n"
     ]
    }
   ],
   "source": [
    "contents = contents.split('\\n')\n",
    "print(contents)"
   ]
  },
  {
   "cell_type": "code",
   "execution_count": 4,
   "metadata": {},
   "outputs": [
    {
     "name": "stdout",
     "output_type": "stream",
     "text": [
      "maximum number: 100, number of differrent types: 10\n"
     ]
    }
   ],
   "source": [
    "max_slices = contents[0].split(' ')\n",
    "num_types = int(max_slices[1])\n",
    "max_slices = int(max_slices[0])\n",
    "print(\"maximum number: {}, number of differrent types: {}\".format(max_slices, num_types))"
   ]
  },
  {
   "cell_type": "code",
   "execution_count": 5,
   "metadata": {},
   "outputs": [
    {
     "data": {
      "text/plain": [
       "['4', '14', '15', '18', '29', '32', '36', '82', '95']"
      ]
     },
     "execution_count": 5,
     "metadata": {},
     "output_type": "execute_result"
    }
   ],
   "source": [
    "content = contents[1].split(' ')\n",
    "content[:-1]"
   ]
  },
  {
   "cell_type": "code",
   "execution_count": 13,
   "metadata": {},
   "outputs": [
    {
     "name": "stdout",
     "output_type": "stream",
     "text": [
      "cur_max: 95\n",
      "-----------Start algorythm---------\n",
      "=== i: 9 ===\n",
      "=== j: 8 ===\n",
      "x: 190\n",
      "=== j: 7 ===\n",
      "x: 177\n",
      "=== j: 6 ===\n",
      "x: 131\n",
      "=== j: 5 ===\n",
      "x: 127\n",
      "=== j: 4 ===\n",
      "x: 124\n",
      "=== j: 3 ===\n",
      "x: 113\n",
      "=== j: 2 ===\n",
      "x: 110\n",
      "=== j: 1 ===\n",
      "x: 109\n",
      "=== j: 0 ===\n",
      "x: 99\n",
      "--- NEW CURRENT MAX: 99 ---\n",
      "--- cycle ---\n",
      "=== i: 8 ===\n",
      "=== j: 7 ===\n",
      "x: 177\n",
      "=== j: 6 ===\n",
      "x: 131\n",
      "=== j: 5 ===\n",
      "x: 127\n",
      "=== j: 4 ===\n",
      "x: 124\n",
      "=== j: 3 ===\n",
      "x: 113\n",
      "=== j: 2 ===\n",
      "x: 110\n",
      "=== j: 1 ===\n",
      "x: 109\n",
      "=== j: 0 ===\n",
      "x: 99\n",
      "--- cycle ---\n",
      "=== i: 7 ===\n",
      "=== j: 6 ===\n",
      "x: 118\n",
      "=== j: 5 ===\n",
      "x: 114\n",
      "=== j: 4 ===\n",
      "x: 111\n",
      "=== j: 3 ===\n",
      "x: 100\n",
      "--- Answer: 100 ---\n",
      "=== i: 7 ===\n",
      "=== j: 6 ===\n",
      "x: 118\n",
      "=== j: 5 ===\n",
      "x: 114\n",
      "=== j: 4 ===\n",
      "x: 111\n",
      "=== j: 3 ===\n",
      "x: 100\n",
      "--- Answer: 100 ---\n",
      "=== i: 8 ===\n",
      "=== j: 7 ===\n",
      "x: 177\n",
      "=== j: 6 ===\n",
      "x: 131\n",
      "=== j: 5 ===\n",
      "x: 127\n",
      "=== j: 4 ===\n",
      "x: 124\n",
      "=== j: 3 ===\n",
      "x: 113\n",
      "=== j: 2 ===\n",
      "x: 110\n",
      "=== j: 1 ===\n",
      "x: 109\n",
      "=== j: 0 ===\n",
      "x: 99\n",
      "--- cycle ---\n",
      "=== i: 7 ===\n",
      "=== j: 6 ===\n",
      "x: 118\n",
      "=== j: 5 ===\n",
      "x: 114\n",
      "=== j: 4 ===\n",
      "x: 111\n",
      "=== j: 3 ===\n",
      "x: 100\n",
      "--- Answer: 100 ---\n",
      "=== i: 7 ===\n",
      "=== j: 6 ===\n",
      "x: 118\n",
      "=== j: 5 ===\n",
      "x: 114\n",
      "=== j: 4 ===\n",
      "x: 111\n",
      "=== j: 3 ===\n",
      "x: 100\n",
      "--- Answer: 100 ---\n",
      "-------------------------------\n",
      "MAX: 100\n"
     ]
    }
   ],
   "source": [
    "def cycle(i, j, x):\n",
    "    global cur_max\n",
    "    for i in range(i-1, -1, -1):\n",
    "        print('=== i: {} ==='.format(i))\n",
    "        for j in range(i-1, -1, -1):\n",
    "            print('=== j: {} ==='.format(j))\n",
    "            x = int(content[i])+int(content[j])\n",
    "            print(\"x: {}\".format(x))\n",
    "            if x == max_slices:\n",
    "                cur_max = x\n",
    "                print(\"--- Answer: {} ---\".format(cur_max))\n",
    "                return\n",
    "            if x < max_slices:\n",
    "                if x > cur_max:\n",
    "                    cur_max = x\n",
    "                    print(\"--- NEW CURRENT MAX: {} ---\".format(cur_max))\n",
    "                print('--- cycle ---')\n",
    "                cycle(i, j, x)\n",
    "                \n",
    "\n",
    "# -- Delete that > max_slices --\n",
    "cur_max = int(content[-1])\n",
    "while cur_max > max_slices:\n",
    "    content = content[:-1]\n",
    "    cur_max = content[-1]\n",
    "print('cur_max: {}'.format(content[-1]))\n",
    "# -- end deleting\n",
    "\n",
    "print('-----------Start algorythm---------')\n",
    "cycle(num_types, num_types-1, 0)\n",
    "\n",
    "print('-------------------------------')\n",
    "print('MAX: {}'.format(cur_max))\n",
    "\n"
   ]
  },
  {
   "cell_type": "code",
   "execution_count": 47,
   "metadata": {
    "collapsed": true,
    "jupyter": {
     "outputs_hidden": true
    }
   },
   "outputs": [
    {
     "name": "stdout",
     "output_type": "stream",
     "text": [
      "--- 9 ---\n",
      "8\n",
      "7\n",
      "6\n",
      "5\n",
      "4\n",
      "3\n",
      "2\n",
      "1\n",
      "0\n",
      "--- 8 ---\n",
      "7\n",
      "6\n",
      "5\n",
      "4\n",
      "3\n",
      "2\n",
      "1\n",
      "0\n",
      "--- 7 ---\n",
      "6\n",
      "5\n",
      "4\n",
      "3\n",
      "2\n",
      "1\n",
      "0\n",
      "--- 6 ---\n",
      "5\n",
      "4\n",
      "3\n",
      "2\n",
      "1\n",
      "0\n",
      "--- 5 ---\n",
      "4\n",
      "3\n",
      "2\n",
      "1\n",
      "0\n",
      "--- 4 ---\n",
      "3\n",
      "2\n",
      "1\n",
      "0\n",
      "--- 3 ---\n",
      "2\n",
      "1\n",
      "0\n",
      "--- 2 ---\n",
      "1\n",
      "0\n",
      "--- 1 ---\n",
      "0\n",
      "--- 0 ---\n"
     ]
    }
   ],
   "source": [
    "for i in range(num_types-1, -1, -1):\n",
    "    print('--- {} ---'.format(i))\n",
    "    for j in range(i-1, -1, -1):\n",
    "        print('{}'.format(j))"
   ]
  },
  {
   "cell_type": "code",
   "execution_count": 36,
   "metadata": {
    "collapsed": true,
    "jupyter": {
     "outputs_hidden": true
    }
   },
   "outputs": [
    {
     "name": "stdout",
     "output_type": "stream",
     "text": [
      "9: 95\n",
      "============\n",
      "8: 95+95=190\n",
      "7: 95+82=177\n",
      "6: 95+36=131\n",
      "5: 95+32=127\n",
      "4: 95+29=124\n",
      "3: 95+18=113\n",
      "2: 95+15=110\n",
      "1: 95+14=109\n",
      "0: 95+4=99\n",
      "============\n",
      "8: 95\n",
      "============\n",
      "7: 95+82=177\n",
      "6: 95+36=131\n",
      "5: 95+32=127\n",
      "4: 95+29=124\n",
      "3: 95+18=113\n",
      "2: 95+15=110\n",
      "1: 95+14=109\n",
      "0: 95+4=99\n",
      "============\n",
      "7: 82\n",
      "============\n",
      "6: 82+36=118\n",
      "5: 82+32=114\n",
      "4: 82+29=111\n",
      "3: 82+18=100\n",
      "2: 82+15=97\n",
      "1: 82+14=96\n",
      "0: 82+4=86\n",
      "============\n",
      "6: 36\n",
      "============\n",
      "5: 36+32=68\n",
      "4: 36+29=65\n",
      "3: 36+18=54\n",
      "2: 36+15=51\n",
      "1: 36+14=50\n",
      "0: 36+4=40\n",
      "============\n",
      "5: 32\n",
      "============\n",
      "4: 32+29=61\n",
      "3: 32+18=50\n",
      "2: 32+15=47\n",
      "1: 32+14=46\n",
      "0: 32+4=36\n",
      "============\n",
      "4: 29\n",
      "============\n",
      "3: 29+18=47\n",
      "2: 29+15=44\n",
      "1: 29+14=43\n",
      "0: 29+4=33\n",
      "============\n",
      "3: 18\n",
      "============\n",
      "2: 18+15=33\n",
      "1: 18+14=32\n",
      "0: 18+4=22\n",
      "============\n",
      "2: 15\n",
      "============\n",
      "1: 15+14=29\n",
      "0: 15+4=19\n",
      "============\n",
      "1: 14\n",
      "============\n",
      "0: 14+4=18\n",
      "============\n",
      "0: 4\n",
      "============\n",
      "============\n"
     ]
    }
   ],
   "source": [
    "def cycle_test(i):\n",
    "    for i in range(i-1, -1, -1):\n",
    "        print('{}: {}'.format(i,content[i]))\n",
    "        print('============')\n",
    "        for j in range(i-1, -1, -1):\n",
    "            print('{0}: {1}+{2}={3}'.format(j,content[i], content[j], int(content[i])+int(content[j])))\n",
    "        print('============')\n",
    "        \n",
    "    \n",
    "cycle_test(num_types)"
   ]
  },
  {
   "cell_type": "code",
   "execution_count": null,
   "metadata": {},
   "outputs": [],
   "source": [
    "def cycle_test(i, s, t, st):\n",
    "    if i>0:\n",
    "        for j in range(i-1, -1, -1):\n",
    "            tmp = t + int(content[i])+int(content[j])\n",
    "            if t == 0:\n",
    "                s.append(content[i] + \"+\" + content[j])\n",
    "            else:\n",
    "                s.append(str(t) + \"+\" + content[i] + \"+\" + content[j])\n",
    "            if tmp == max_slices:\n",
    "                pass\n",
    "            if tmp < max_slices:\n",
    "                cycle_test(j, s, tmp, st)\n",
    "        print('{}: {}'.format(i,s))\n",
    "        cycle_test(i-1,s,0,'')\n",
    "    else:\n",
    "        return\n",
    "        \n",
    "s=[]\n",
    "cycle_test(num_types-1, s, 0, '')"
   ]
  },
  {
   "cell_type": "code",
   "execution_count": 31,
   "metadata": {},
   "outputs": [],
   "source": [
    "f = open(\"b_small.in\",\"r\")\n",
    "# f = open(\"a_example.in\",\"r\")\n",
    "# f = open(\"c_medium.in\",\"r\")\n",
    "# f = open(\"d_quite_big.in\",\"r\")\n",
    "# f = open(\"e_also_big.in\",\"r\")\n",
    "contents = f.read()\n",
    "f.close() "
   ]
  },
  {
   "cell_type": "code",
   "execution_count": 32,
   "metadata": {},
   "outputs": [
    {
     "name": "stdout",
     "output_type": "stream",
     "text": [
      "maximum number: 100, number of differrent types: 10\n",
      "['4', '14', '15', '18', '29', '32', '36', '82', '95', '95']\n"
     ]
    }
   ],
   "source": [
    "contents = contents.split('\\n')\n",
    "max_slices = contents[0].split(' ')\n",
    "num_types = int(max_slices[1])\n",
    "max_slices = int(max_slices[0])\n",
    "print(\"maximum number: {}, number of differrent types: {}\".format(max_slices, num_types))\n",
    "content = contents[1].split(' ')\n",
    "print(content)"
   ]
  },
  {
   "cell_type": "code",
   "execution_count": 33,
   "metadata": {},
   "outputs": [
    {
     "name": "stdout",
     "output_type": "stream",
     "text": [
      " 95 95 82 36 32 29 18 15 14 4\n",
      " 95 82 36 32 29 18 15 14 4\n",
      " 82 36 32 29 18 15 14 4\n",
      " 36 32 29 18 15 14 4\n",
      " 32 29 18 15 14 4\n",
      " 29 18 15 14 4\n",
      " 18 15 14 4\n",
      " 15 14 4\n",
      " 14 4\n",
      " 4\n",
      "\n"
     ]
    }
   ],
   "source": [
    "matrix = [[int(content[j]) for j in range(i,-1,-1)] for i in range(num_types-1,-1,-1)]\n",
    "s = ''\n",
    "for i in range(num_types):\n",
    "        for j in range(num_types-i):\n",
    "            s = s + ' ' +  str(matrix[i][j])\n",
    "        s+='\\n'\n",
    "print(s)"
   ]
  },
  {
   "cell_type": "code",
   "execution_count": 34,
   "metadata": {},
   "outputs": [
    {
     "name": "stdout",
     "output_type": "stream",
     "text": [
      "s: [(0, 0)], x: 0, z: 95\n",
      "----------------------------\n",
      "cur_max 95: [(0, 0)]\n",
      "----------------------------\n",
      "s: [(0, 0), (0, 1)], x: 95, z: 95\n",
      "s: [(0, 0), (1, 1)], x: 95, z: 82\n",
      "s: [(0, 0), (2, 1)], x: 95, z: 36\n",
      "s: [(0, 0), (3, 1)], x: 95, z: 32\n",
      "s: [(0, 0), (4, 1)], x: 95, z: 29\n",
      "s: [(0, 0), (5, 1)], x: 95, z: 18\n",
      "s: [(0, 0), (6, 1)], x: 95, z: 15\n",
      "s: [(0, 0), (7, 1)], x: 95, z: 14\n",
      "s: [(0, 0), (8, 1)], x: 95, z: 4\n",
      "----------------------------\n",
      "cur_max 99: [(0, 0), (8, 1)]\n",
      "----------------------------\n",
      "s: [(1, 0)], x: 0, z: 95\n",
      "s: [(1, 0), (1, 1)], x: 95, z: 82\n",
      "s: [(1, 0), (2, 1)], x: 95, z: 36\n",
      "s: [(1, 0), (3, 1)], x: 95, z: 32\n",
      "s: [(1, 0), (4, 1)], x: 95, z: 29\n",
      "s: [(1, 0), (5, 1)], x: 95, z: 18\n",
      "s: [(1, 0), (6, 1)], x: 95, z: 15\n",
      "s: [(1, 0), (7, 1)], x: 95, z: 14\n",
      "s: [(1, 0), (8, 1)], x: 95, z: 4\n",
      "s: [(2, 0)], x: 0, z: 82\n",
      "s: [(2, 0), (2, 1)], x: 82, z: 36\n",
      "s: [(2, 0), (3, 1)], x: 82, z: 32\n",
      "s: [(2, 0), (4, 1)], x: 82, z: 29\n",
      "s: [(2, 0), (5, 1)], x: 82, z: 18\n",
      "=====================================\n",
      "MAX 100: [(2, 0), (5, 1)]\n"
     ]
    }
   ],
   "source": [
    "def fun(x, i, j, s):\n",
    "    global cur_max\n",
    "    global cur_max_s\n",
    "    \n",
    "    if cur_max == max_slices:\n",
    "        return\n",
    "        \n",
    "    if j < len(matrix[i]):\n",
    "        tmp_x = x + matrix[i][j]\n",
    "        s.append((i,j))\n",
    "        print('s: {}, x: {}, z: {}'.format(s, x, matrix[i][j], tmp_x))\n",
    "        \n",
    "        if tmp_x == max_slices:\n",
    "            cur_max = tmp_x\n",
    "            cur_max_s = s\n",
    "            return\n",
    "        if tmp_x < max_slices:\n",
    "            if tmp_x>cur_max:\n",
    "                cur_max = tmp_x\n",
    "                cur_max_s = s\n",
    "                print('----------------------------')\n",
    "                print('cur_max {}: {}'.format(cur_max, cur_max_s))\n",
    "                print('----------------------------')\n",
    "            fun(tmp_x, i, j+1, s)\n",
    "\n",
    "        else:\n",
    "            z=0\n",
    "            fun(x, i+1, j, s[:-1])\n",
    "            \n",
    "cur_max = 0\n",
    "cur_max_s = []\n",
    "for i in range(num_types-1):\n",
    "    fun(0,i,0,[])\n",
    "# fun(0,0,0,[])\n",
    "print('=====================================')\n",
    "print('MAX {}: {}'.format(cur_max, cur_max_s))"
   ]
  },
  {
   "cell_type": "code",
   "execution_count": 51,
   "metadata": {},
   "outputs": [],
   "source": []
  },
  {
   "cell_type": "code",
   "execution_count": 60,
   "metadata": {},
   "outputs": [
    {
     "name": "stdout",
     "output_type": "stream",
     "text": [
      "maximum number: 100, number of differrent types: 10\n",
      "=====================================\n",
      "MAX 100: [(2, 0), (5, 1)]\n"
     ]
    }
   ],
   "source": [
    "# f = open(\"a_example.in\",\"r\")\n",
    "f = open(\"b_small.in\",\"r\")\n",
    "# f = open(\"c_medium.in\",\"r\")\n",
    "# f = open(\"d_quite_big.in\",\"r\")\n",
    "# f = open(\"e_also_big.in\",\"r\")\n",
    "contents = f.read()\n",
    "f.close() \n",
    "contents = contents.split('\\n')\n",
    "max_slices = contents[0].split(' ')\n",
    "num_types = int(max_slices[1])\n",
    "max_slices = int(max_slices[0])\n",
    "print(\"maximum number: {}, number of differrent types: {}\".format(max_slices, num_types))\n",
    "content = contents[1].split(' ')\n",
    "matrix = [[int(content[j]) for j in range(i,-1,-1)] for i in range(num_types-1,-1,-1)]\n",
    "\n",
    "def fun(x, i, j, s):\n",
    "    global cur_max\n",
    "    global cur_max_s\n",
    "    \n",
    "    if cur_max == max_slices:\n",
    "        return\n",
    "        \n",
    "    if j < len(matrix[i]):\n",
    "        tmp_x = x + matrix[i][j]\n",
    "        s.append((i,j))\n",
    "        \n",
    "        if tmp_x == max_slices:\n",
    "            cur_max = tmp_x\n",
    "            cur_max_s = s\n",
    "            return\n",
    "        \n",
    "        if tmp_x < max_slices:\n",
    "            if tmp_x>cur_max:\n",
    "                cur_max = tmp_x\n",
    "                cur_max_s = s\n",
    "            fun(tmp_x, i, j+1, s)\n",
    "\n",
    "        else:\n",
    "            z=0\n",
    "            fun(x, i+1, j, s[:-1])\n",
    "            \n",
    "cur_max = 0\n",
    "cur_max_s = []\n",
    "for i in range(num_types-1):\n",
    "    fun(0,i,0,[])\n",
    "print('=====================================')\n",
    "print('MAX {}: {}'.format(cur_max, cur_max_s))"
   ]
  },
  {
   "cell_type": "code",
   "execution_count": 93,
   "metadata": {},
   "outputs": [
    {
     "name": "stdout",
     "output_type": "stream",
     "text": [
      "maximum number: 100, number of differrent types: 10\n",
      "-----------------------------------\n",
      "k: 0, cur [0][0]\n",
      "s: [(0, 0)], x: 0, z: 95\n",
      "-----------------------------------\n",
      "-----------------------------------\n",
      "k: 0, cur [0][1]\n",
      "s: [(0, 0), (0, 1)], x: 95, z: 190\n",
      "-----------------------------------\n",
      "-----------------------------------\n",
      "k: 0, cur [1][1]\n",
      "s: [(0, 0), (1, 1)], x: 95, z: 177\n",
      "-----------------------------------\n",
      "-----------------------------------\n",
      "k: 0, cur [2][1]\n",
      "s: [(0, 0), (2, 1)], x: 95, z: 131\n",
      "-----------------------------------\n",
      "-----------------------------------\n",
      "k: 0, cur [3][1]\n",
      "s: [(0, 0), (3, 1)], x: 95, z: 127\n",
      "-----------------------------------\n",
      "-----------------------------------\n",
      "k: 0, cur [4][1]\n",
      "s: [(0, 0), (4, 1)], x: 95, z: 124\n",
      "-----------------------------------\n",
      "-----------------------------------\n",
      "k: 0, cur [5][1]\n",
      "s: [(0, 0), (5, 1)], x: 95, z: 114\n",
      "-----------------------------------\n",
      "-----------------------------------\n",
      "k: 0, cur [6][1]\n",
      "s: [(0, 0), (6, 1)], x: 95, z: 110\n",
      "-----------------------------------\n",
      "-----------------------------------\n",
      "k: 0, cur [7][1]\n",
      "s: [(0, 0), (7, 1)], x: 95, z: 109\n",
      "-----------------------------------\n",
      "-----------------------------------\n",
      "k: 0, cur [8][1]\n",
      "s: [(0, 0), (8, 1)], x: 95, z: 99\n",
      "-----------------------------------\n",
      "-----------------------------------\n",
      "k: 1, cur [1][0]\n",
      "s: [(1, 0)], x: 0, z: 95\n",
      "-----------------------------------\n",
      "-----------------------------------\n",
      "k: 1, cur [1][1]\n",
      "s: [(1, 0), (1, 1)], x: 95, z: 177\n",
      "-----------------------------------\n",
      "-----------------------------------\n",
      "k: 1, cur [2][1]\n",
      "s: [(1, 0), (2, 1)], x: 95, z: 131\n",
      "-----------------------------------\n",
      "-----------------------------------\n",
      "k: 1, cur [3][1]\n",
      "s: [(1, 0), (3, 1)], x: 95, z: 127\n",
      "-----------------------------------\n",
      "-----------------------------------\n",
      "k: 1, cur [4][1]\n",
      "s: [(1, 0), (4, 1)], x: 95, z: 124\n",
      "-----------------------------------\n",
      "-----------------------------------\n",
      "k: 1, cur [5][1]\n",
      "s: [(1, 0), (5, 1)], x: 95, z: 114\n",
      "-----------------------------------\n",
      "-----------------------------------\n",
      "k: 1, cur [6][1]\n",
      "s: [(1, 0), (6, 1)], x: 95, z: 110\n",
      "-----------------------------------\n",
      "-----------------------------------\n",
      "k: 1, cur [7][1]\n",
      "s: [(1, 0), (7, 1)], x: 95, z: 109\n",
      "-----------------------------------\n",
      "-----------------------------------\n",
      "k: 1, cur [8][1]\n",
      "s: [(1, 0), (8, 1)], x: 95, z: 99\n",
      "-----------------------------------\n",
      "-----------------------------------\n",
      "k: 2, cur [2][0]\n",
      "s: [(2, 0)], x: 0, z: 82\n",
      "-----------------------------------\n",
      "-----------------------------------\n",
      "k: 2, cur [2][1]\n",
      "s: [(2, 0), (2, 1)], x: 82, z: 118\n",
      "-----------------------------------\n",
      "-----------------------------------\n",
      "k: 2, cur [3][1]\n",
      "s: [(2, 0), (3, 1)], x: 82, z: 114\n",
      "-----------------------------------\n",
      "-----------------------------------\n",
      "k: 2, cur [4][1]\n",
      "s: [(2, 0), (4, 1)], x: 82, z: 111\n",
      "-----------------------------------\n",
      "-----------------------------------\n",
      "k: 2, cur [5][1]\n",
      "s: [(2, 0), (5, 1)], x: 82, z: 101\n",
      "-----------------------------------\n",
      "-----------------------------------\n",
      "k: 2, cur [6][1]\n",
      "s: [(2, 0), (6, 1)], x: 82, z: 97\n",
      "-----------------------------------\n",
      "-----------------------------------\n",
      "k: 2, cur [6][2]\n",
      "s: [(2, 0), (6, 1), (6, 2)], x: 97, z: 111\n",
      "-----------------------------------\n",
      "-----------------------------------\n",
      "k: 2, cur [7][2]\n",
      "s: [(2, 0), (6, 1), (7, 2)], x: 97, z: 101\n",
      "-----------------------------------\n",
      "||||||||||||| LAST CHANCE, need to (6, 1)\n",
      "-----------------------------------\n",
      "k: 3, cur [3][0]\n",
      "s: [(3, 0)], x: 0, z: 36\n",
      "-----------------------------------\n",
      "-----------------------------------\n",
      "k: 3, cur [3][1]\n",
      "s: [(3, 0), (3, 1)], x: 36, z: 68\n",
      "-----------------------------------\n",
      "-----------------------------------\n",
      "k: 3, cur [3][2]\n",
      "s: [(3, 0), (3, 1), (3, 2)], x: 68, z: 97\n",
      "-----------------------------------\n",
      "-----------------------------------\n",
      "k: 3, cur [3][3]\n",
      "s: [(3, 0), (3, 1), (3, 2), (3, 3)], x: 97, z: 115\n",
      "-----------------------------------\n",
      "-----------------------------------\n",
      "k: 3, cur [4][3]\n",
      "s: [(3, 0), (3, 1), (3, 2), (4, 3)], x: 97, z: 112\n",
      "-----------------------------------\n",
      "-----------------------------------\n",
      "k: 3, cur [5][3]\n",
      "s: [(3, 0), (3, 1), (3, 2), (5, 3)], x: 97, z: 111\n",
      "-----------------------------------\n",
      "-----------------------------------\n",
      "k: 3, cur [6][3]\n",
      "s: [(3, 0), (3, 1), (3, 2), (6, 3)], x: 97, z: 101\n",
      "-----------------------------------\n",
      "||||||||||||| LAST CHANCE, need to (3, 2)\n",
      "-----------------------------------\n",
      "k: 4, cur [4][0]\n",
      "s: [(4, 0)], x: 0, z: 32\n",
      "-----------------------------------\n",
      "-----------------------------------\n",
      "k: 4, cur [4][1]\n",
      "s: [(4, 0), (4, 1)], x: 32, z: 61\n",
      "-----------------------------------\n",
      "-----------------------------------\n",
      "k: 4, cur [4][2]\n",
      "s: [(4, 0), (4, 1), (4, 2)], x: 61, z: 79\n",
      "-----------------------------------\n",
      "-----------------------------------\n",
      "k: 4, cur [4][3]\n",
      "s: [(4, 0), (4, 1), (4, 2), (4, 3)], x: 79, z: 94\n",
      "-----------------------------------\n",
      "-----------------------------------\n",
      "k: 4, cur [4][4]\n",
      "s: [(4, 0), (4, 1), (4, 2), (4, 3), (4, 4)], x: 94, z: 108\n",
      "-----------------------------------\n",
      "-----------------------------------\n",
      "k: 4, cur [5][4]\n",
      "s: [(4, 0), (4, 1), (4, 2), (4, 3), (5, 4)], x: 94, z: 98\n",
      "-----------------------------------\n",
      "-----------------------------------\n",
      "k: 5, cur [5][0]\n",
      "s: [(5, 0)], x: 0, z: 29\n",
      "-----------------------------------\n",
      "-----------------------------------\n",
      "k: 5, cur [5][1]\n",
      "s: [(5, 0), (5, 1)], x: 29, z: 48\n",
      "-----------------------------------\n",
      "-----------------------------------\n",
      "k: 5, cur [5][2]\n",
      "s: [(5, 0), (5, 1), (5, 2)], x: 48, z: 63\n",
      "-----------------------------------\n",
      "-----------------------------------\n",
      "k: 5, cur [5][3]\n",
      "s: [(5, 0), (5, 1), (5, 2), (5, 3)], x: 63, z: 77\n",
      "-----------------------------------\n",
      "-----------------------------------\n",
      "k: 5, cur [5][4]\n",
      "s: [(5, 0), (5, 1), (5, 2), (5, 3), (5, 4)], x: 77, z: 81\n",
      "-----------------------------------\n",
      "-----------------------------------\n",
      "k: 6, cur [6][0]\n",
      "s: [(6, 0)], x: 0, z: 18\n",
      "-----------------------------------\n",
      "-----------------------------------\n",
      "k: 6, cur [6][1]\n",
      "s: [(6, 0), (6, 1)], x: 18, z: 33\n",
      "-----------------------------------\n",
      "-----------------------------------\n",
      "k: 6, cur [6][2]\n",
      "s: [(6, 0), (6, 1), (6, 2)], x: 33, z: 47\n",
      "-----------------------------------\n",
      "-----------------------------------\n",
      "k: 6, cur [6][3]\n",
      "s: [(6, 0), (6, 1), (6, 2), (6, 3)], x: 47, z: 51\n",
      "-----------------------------------\n",
      "-----------------------------------\n",
      "k: 7, cur [7][0]\n",
      "s: [(7, 0)], x: 0, z: 15\n",
      "-----------------------------------\n",
      "-----------------------------------\n",
      "k: 7, cur [7][1]\n",
      "s: [(7, 0), (7, 1)], x: 15, z: 29\n",
      "-----------------------------------\n",
      "-----------------------------------\n",
      "k: 7, cur [7][2]\n",
      "s: [(7, 0), (7, 1), (7, 2)], x: 29, z: 33\n",
      "-----------------------------------\n",
      "-----------------------------------\n",
      "k: 8, cur [8][0]\n",
      "s: [(8, 0)], x: 0, z: 14\n",
      "-----------------------------------\n",
      "-----------------------------------\n",
      "k: 8, cur [8][1]\n",
      "s: [(8, 0), (8, 1)], x: 14, z: 18\n",
      "-----------------------------------\n",
      "=====================================\n",
      "MAX 99: [(0, 0), (8, 1)]\n"
     ]
    }
   ],
   "source": [
    "# f = open(\"a_example.in\",\"r\")\n",
    "f = open(\"b_small.in\",\"r\")\n",
    "# f = open(\"c_medium.in\",\"r\")\n",
    "# f = open(\"d_quite_big.in\",\"r\")\n",
    "# f = open(\"e_also_big.in\",\"r\")\n",
    "contents = f.read()\n",
    "f.close() \n",
    "contents = contents.split('\\n')\n",
    "max_slices = contents[0].split(' ')\n",
    "num_types = int(max_slices[1])\n",
    "max_slices = int(max_slices[0])\n",
    "print(\"maximum number: {}, number of differrent types: {}\".format(max_slices, num_types))\n",
    "content = contents[1].split(' ')\n",
    "matrix = [[int(content[j]) for j in range(i,-1,-1)] for i in range(num_types-1,-1,-1)]\n",
    "\n",
    "matrix[5][1] = 19\n",
    "    \n",
    "cur_max = 0\n",
    "cur_max_s = []\n",
    "for k in range(num_types-1):\n",
    "    if cur_max == max_slices:\n",
    "        break\n",
    "    \n",
    "    i = k\n",
    "    j = 0\n",
    "    x = 0\n",
    "    s = []\n",
    "    \n",
    "    while j < len(matrix[i]):\n",
    "        \n",
    "        print('-----------------------------------')\n",
    "        \n",
    "        print(\"k: {}, cur [{}][{}]\".format(k, i,j))\n",
    "        tmp_x = x + matrix[i][j]\n",
    "        s.append((i,j))\n",
    "        print('s: {}, x: {}, z: {}'.format(s, x, tmp_x))\n",
    "        print('-----------------------------------')\n",
    "\n",
    "        if tmp_x == max_slices:\n",
    "            cur_max = tmp_x\n",
    "            cur_max_s = s\n",
    "            break\n",
    "        \n",
    "        if tmp_x < max_slices:\n",
    "            if tmp_x > cur_max:\n",
    "                cur_max = tmp_x\n",
    "                cur_max_s = s\n",
    "            x = tmp_x\n",
    "            j+=1\n",
    "            \n",
    "            \n",
    "        else:\n",
    "            if j == len(matrix[i])-1 and len(s)>1:\n",
    "                print('||||||||||||| LAST CHANCE, need to {}'.format(s[-2]))\n",
    "            z=0\n",
    "            i+=1\n",
    "            s = s[:-1]\n",
    "    \n",
    "print('=====================================')\n",
    "print('MAX {}: {}'.format(cur_max, cur_max_s))"
   ]
  },
  {
   "cell_type": "code",
   "execution_count": 75,
   "metadata": {},
   "outputs": [
    {
     "data": {
      "text/plain": [
       "[(8, 1)]"
      ]
     },
     "execution_count": 75,
     "metadata": {},
     "output_type": "execute_result"
    }
   ],
   "source": [
    "cur_max_s[-1:]\n"
   ]
  },
  {
   "cell_type": "code",
   "execution_count": 21,
   "metadata": {},
   "outputs": [
    {
     "name": "stdout",
     "output_type": "stream",
     "text": [
      "0\n",
      "1\n",
      "2\n",
      "3\n",
      "6\n",
      "7\n",
      "8\n",
      "9\n"
     ]
    }
   ],
   "source": [
    "i = 0\n",
    "s = 0\n",
    "while i < 10:\n",
    "    s+=i\n",
    "#     print(s)\n",
    "    if s==10:\n",
    "        i+=2\n",
    "        continue\n",
    "    print(i)\n",
    "    i+=1"
   ]
  },
  {
   "cell_type": "code",
   "execution_count": null,
   "metadata": {},
   "outputs": [],
   "source": []
  }
 ],
 "metadata": {
  "kernelspec": {
   "display_name": "Python [conda env:WhatThisImageAnaconda]",
   "language": "python",
   "name": "conda-env-WhatThisImageAnaconda-py"
  },
  "language_info": {
   "codemirror_mode": {
    "name": "ipython",
    "version": 3
   },
   "file_extension": ".py",
   "mimetype": "text/x-python",
   "name": "python",
   "nbconvert_exporter": "python",
   "pygments_lexer": "ipython3",
   "version": "3.7.6"
  }
 },
 "nbformat": 4,
 "nbformat_minor": 4
}
